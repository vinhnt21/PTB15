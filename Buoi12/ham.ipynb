{
 "cells": [
  {
   "cell_type": "code",
   "execution_count": 3,
   "metadata": {},
   "outputs": [
    {
     "name": "stdout",
     "output_type": "stream",
     "text": [
      "My name is Trong Kien\n",
      "I am 15 years old\n",
      "My name is Trung Kien\n",
      "I am 15 years old\n",
      "My name is Hồng Anh\n",
      "I am 15 years old\n"
     ]
    }
   ],
   "source": [
    "name = 'Trong Kien'\n",
    "age = 15\n",
    "print('My name is', name)\n",
    "print('I am', age, 'years old')\n",
    "\n",
    "\n",
    "name = \"Trung Kien\"\n",
    "age = 15\n",
    "print(\"My name is\", name)\n",
    "print(\"I am\", age, \"years old\")\n",
    "\n",
    "\n",
    "name = \"Hồng Anh\"\n",
    "age = 15\n",
    "print(\"My name is\", name)\n",
    "print(\"I am\", age, \"years old\")"
   ]
  },
  {
   "cell_type": "code",
   "execution_count": 5,
   "metadata": {},
   "outputs": [
    {
     "name": "stdout",
     "output_type": "stream",
     "text": [
      "My name is Trong Kien\n",
      "I am 15 years old\n",
      "My name is Trung Kien\n",
      "I am 15 years old\n",
      "My name is Hong Anh\n",
      "I am 15 years old\n",
      "My name is Hoa\n",
      "I am 15 years old\n",
      "My name is Huong\n",
      "I am 15 years old\n"
     ]
    }
   ],
   "source": [
    "def intro_student(name, age):\n",
    "    print(\"My name is\", name)\n",
    "    print(\"I am\", age, \"years old\")\n",
    "    \n",
    "    \n",
    "    \n",
    "intro_student(\"Trong Kien\", 15)\n",
    "intro_student(\"Trung Kien\", 15)\n",
    "intro_student(\"Hong Anh\", 15)\n",
    "intro_student(\"Hoa\", 15)\n",
    "intro_student(\"Huong\", 15)\n"
   ]
  },
  {
   "cell_type": "code",
   "execution_count": null,
   "metadata": {},
   "outputs": [
    {
     "name": "stdout",
     "output_type": "stream",
     "text": [
      "a, b, c are 3 sides of a triangle\n",
      "a, b, c are not 3 sides of a triangle\n"
     ]
    }
   ],
   "source": [
    "a, b, c = 3, 4, 5\n",
    "if a + b > c and a + c > b and b + c > a:\n",
    "    print(\"a, b, c are 3 sides of a triangle\")\n",
    "else:\n",
    "    print(\"a, b, c are not 3 sides of a triangle\")\n",
    "\n",
    "\n",
    "a, b, c = 5,6,14\n",
    "if a + b > c and a + c > b and b + c > a:\n",
    "    print(\"a, b, c are 3 sides of a triangle\")\n",
    "else:\n",
    "    print(\"a, b, c are not 3 sides of a triangle\")"
   ]
  },
  {
   "cell_type": "code",
   "execution_count": 9,
   "metadata": {},
   "outputs": [
    {
     "name": "stdout",
     "output_type": "stream",
     "text": [
      "a, b, c are 3 sides of a triangle\n",
      "a, b, c are not 3 sides of a triangle\n",
      "a, b, c are 3 sides of a triangle\n"
     ]
    }
   ],
   "source": [
    "def check_triangle(a, b, c):\n",
    "    if a + b > c and a + c > b and b + c > a:\n",
    "        print(\"a, b, c are 3 sides of a triangle\")\n",
    "    else:\n",
    "        print(\"a, b, c are not 3 sides of a triangle\")\n",
    "        \n",
    "check_triangle(3, 4, 5)\n",
    "check_triangle(5, 6, 14)\n",
    "check_triangle(8, 10, 15)"
   ]
  },
  {
   "cell_type": "code",
   "execution_count": 29,
   "metadata": {},
   "outputs": [
    {
     "name": "stdout",
     "output_type": "stream",
     "text": [
      "Họ: Trịnh\n",
      "Tên đệm: Trần Phương\n",
      "Tên: Tuấn\n",
      "Họ: Nguyễn\n",
      "Tên đệm: Trung Nam\n",
      "Tên: Phong\n"
     ]
    }
   ],
   "source": [
    "full_name = 'Trịnh Trần Phương Tuấn'\n",
    "\n",
    "full_name = full_name.split()\n",
    "print('Họ:', full_name[0])\n",
    "ten_dem = full_name[1:-1]\n",
    "if len(ten_dem) > 0:\n",
    "    print('Tên đệm:', ' '.join(ten_dem))\n",
    "print('Tên:', full_name[-1])\n",
    "\n",
    "\n",
    "full_name = \"Nguyễn Trung Nam Phong\"\n",
    "full_name = full_name.split()\n",
    "print(\"Họ:\", full_name[0])\n",
    "ten_dem = full_name[1:-1]\n",
    "if len(ten_dem) > 0:\n",
    "    print(\"Tên đệm:\", \" \".join(ten_dem))\n",
    "print(\"Tên:\", full_name[-1])"
   ]
  },
  {
   "cell_type": "code",
   "execution_count": 2,
   "metadata": {},
   "outputs": [],
   "source": [
    "def split_full_name(full_name):\n",
    "    full_name = full_name.split()\n",
    "    print(\"Họ:\", full_name[0])\n",
    "    ten_dem = full_name[1:-1]\n",
    "    if len(ten_dem) > 0:\n",
    "        print(\"Tên đệm:\", \" \".join(ten_dem))\n",
    "    print(\"Tên:\", full_name[-1])\n",
    "    \n",
    "    "
   ]
  },
  {
   "cell_type": "code",
   "execution_count": 4,
   "metadata": {},
   "outputs": [
    {
     "name": "stdout",
     "output_type": "stream",
     "text": [
      "5\n"
     ]
    },
    {
     "ename": "NameError",
     "evalue": "name 'b' is not defined",
     "output_type": "error",
     "traceback": [
      "\u001b[1;31m---------------------------------------------------------------------------\u001b[0m",
      "\u001b[1;31mNameError\u001b[0m                                 Traceback (most recent call last)",
      "Cell \u001b[1;32mIn[4], line 8\u001b[0m\n\u001b[0;32m      5\u001b[0m     \u001b[38;5;28mprint\u001b[39m(a)\n\u001b[0;32m      7\u001b[0m abc()\n\u001b[1;32m----> 8\u001b[0m \u001b[38;5;28mprint\u001b[39m(\u001b[43mb\u001b[49m)\n",
      "\u001b[1;31mNameError\u001b[0m: name 'b' is not defined"
     ]
    }
   ],
   "source": [
    "a = 5\n",
    "\n",
    "def abc():\n",
    "    b = 6\n",
    "    print(a)\n",
    "    \n",
    "abc()\n",
    "print(b)"
   ]
  },
  {
   "cell_type": "code",
   "execution_count": 6,
   "metadata": {},
   "outputs": [
    {
     "name": "stdout",
     "output_type": "stream",
     "text": [
      "6\n",
      "15\n"
     ]
    }
   ],
   "source": [
    "def sum(a,b,c):\n",
    "    print(a+b+c)\n",
    "    \n",
    "sum(1,2,3)\n",
    "sum(4,5,6)\n"
   ]
  },
  {
   "cell_type": "code",
   "execution_count": null,
   "metadata": {},
   "outputs": [],
   "source": []
  }
 ],
 "metadata": {
  "kernelspec": {
   "display_name": "Python 3",
   "language": "python",
   "name": "python3"
  },
  "language_info": {
   "codemirror_mode": {
    "name": "ipython",
    "version": 3
   },
   "file_extension": ".py",
   "mimetype": "text/x-python",
   "name": "python",
   "nbconvert_exporter": "python",
   "pygments_lexer": "ipython3",
   "version": "3.12.4"
  }
 },
 "nbformat": 4,
 "nbformat_minor": 2
}
