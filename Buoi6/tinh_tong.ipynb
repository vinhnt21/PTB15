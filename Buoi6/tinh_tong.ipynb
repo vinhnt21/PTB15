{
 "cells": [
  {
   "cell_type": "code",
   "execution_count": 1,
   "metadata": {},
   "outputs": [
    {
     "name": "stdout",
     "output_type": "stream",
     "text": [
      "Tổng các số chẵn từ 1 đến 100 là: 2550\n",
      "Tổng các số chia hết cho 5 từ 1 đến 100 là: 1050\n"
     ]
    }
   ],
   "source": [
    "'''\n",
    "Nhập n từ bàn phím\n",
    "In ra tổng các số chẵn từ 1 đến n\n",
    "Và tổng các số chia hết cho 5\n",
    "Ví dụ nhập n = 5\n",
    "    sum = 1 + 2 + 3 + 4 + 5 = 15\n",
    "In ra: 'Tổng các số chẵn từ 1 đến 5 là: 6'\n",
    "        'Tổng các số chia hết cho 5 từ 1 đến 5 là: 5'\n",
    "'''\n",
    "n = int(input('Nhập n: '))\n",
    "tong_1 = 0\n",
    "tong_2 = 0\n",
    "for i in range(1, n+1, 1):\n",
    "    if i%2 == 0:\n",
    "        tong_1 += i    \n",
    "    if i%5 == 0:\n",
    "        tong_2 += i\n",
    "        \n",
    "print('Tổng các số chẵn từ 1 đến', n, 'là:', tong_1)\n",
    "print('Tổng các số chia hết cho 5 từ 1 đến', n, 'là:', tong_2)\n"
   ]
  },
  {
   "cell_type": "code",
   "execution_count": 2,
   "metadata": {},
   "outputs": [
    {
     "name": "stdout",
     "output_type": "stream",
     "text": [
      "Tổng các số chẵn từ 1 đến 50 là: 650\n",
      "Tổng các số chia hết cho 5 từ 1 đến 50 là: 275\n"
     ]
    }
   ],
   "source": [
    "n = 50\n",
    "tong_1 = 0\n",
    "tong_2 = 0\n",
    "\n",
    "for i in range (2, n+1, 2):\n",
    "    tong_1 += i\n",
    "for i in range (5, n+1, 5):\n",
    "    tong_2 += i\n",
    "\n",
    "print('Tổng các số chẵn từ 1 đến', n, 'là:', tong_1)\n",
    "print('Tổng các số chia hết cho 5 từ 1 đến', n, 'là:', tong_2)"
   ]
  }
 ],
 "metadata": {
  "kernelspec": {
   "display_name": "Python 3",
   "language": "python",
   "name": "python3"
  },
  "language_info": {
   "codemirror_mode": {
    "name": "ipython",
    "version": 3
   },
   "file_extension": ".py",
   "mimetype": "text/x-python",
   "name": "python",
   "nbconvert_exporter": "python",
   "pygments_lexer": "ipython3",
   "version": "3.12.4"
  }
 },
 "nbformat": 4,
 "nbformat_minor": 2
}
