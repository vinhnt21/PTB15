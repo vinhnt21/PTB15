{
 "cells": [
  {
   "cell_type": "code",
   "execution_count": null,
   "metadata": {},
   "outputs": [],
   "source": [
    "def loai_tam_giac(a, b, c):\n",
    "    # Kiem tra co phai tam giac khong\n",
    "    if a + b <= c or a + c <= b or b + c <= a:\n",
    "        return \"Khong phai tam giac\"\n",
    "\n",
    "    # Kiem tra tam giac deu\n",
    "    if a == b == c:\n",
    "        return \"Tam giac deu\"\n",
    "\n",
    "    # Kiem tra tam giac vuong\n",
    "    if a**2 + b**2 == c**2 or a**2 + c**2 == b**2 or b**2 + c**2 == a**2:\n",
    "        return \"Tam giac vuong\"\n",
    "\n",
    "    # Kiem tra tam giac can\n",
    "    if a == b or a == c or b == c:\n",
    "        return \"Tam giac can\"\n",
    "\n",
    "    # Neu khong thuoc cac loai tren thi la tam giac thuong\n",
    "    return \"Tam giac thuong\"\n",
    "\n",
    "# Nhap vao 3 canh\n",
    "a = int(input())\n",
    "b = int(input())\n",
    "c = int(input())\n",
    "\n",
    "# Goi ham kiem tra va in ket qua\n",
    "print(loai_tam_giac(a, b, c))\n"
   ]
  },
  {
   "cell_type": "code",
   "execution_count": null,
   "metadata": {},
   "outputs": [
    {
     "name": "stdout",
     "output_type": "stream",
     "text": [
      "8\n",
      "1\n"
     ]
    }
   ],
   "source": [
    "# Nhap danh sach cac so nguyen duoi dang xau ky tu\n",
    "danh_sach = input() # '6 7 9 32'\n",
    "\n",
    "danh_sach = danh_sach.split() #['6', '7', '9', '32']\n",
    "\n",
    "# Chuyen cac so nguyen tu dang xau ky tu sang dang so nguyen\n",
    "for i in range(len(danh_sach)):\n",
    "    danh_sach[i] = int(danh_sach[i])\n",
    "\n",
    "# Tim gia tri lon nhat va be nhat\n",
    "gia_tri_lon_nhat = max(danh_sach)\n",
    "gia_tri_be_nhat = min(danh_sach)\n",
    "\n",
    "# In ra ket qua\n",
    "print(gia_tri_lon_nhat)\n",
    "print(gia_tri_be_nhat)\n"
   ]
  },
  {
   "cell_type": "code",
   "execution_count": null,
   "metadata": {},
   "outputs": [],
   "source": [
    "# Nhap vao ho va ten day du\n",
    "ho_ten = input()\n",
    "\n",
    "# Tach ho ten thanh danh sach cac tu\n",
    "danh_sach = ho_ten.split() # [\"Ho\", \"Chi\", \"Minh\"]\n",
    "\n",
    "# Tach Ho, Ten dem va Ten\n",
    "ho = danh_sach[0]  # Chu dau tien la Ho\n",
    "ten = danh_sach[-1]  # Chu cuoi cung la Ten\n",
    "\n",
    "# Xu ly ten dem\n",
    "if len(danh_sach) > 2:\n",
    "    ten_dem = ' '.join(danh_sach[1:-1])  # Cac chu giua la Ten dem\n",
    "else:\n",
    "    ten_dem = \"\"  # Neu khong co ten dem\n",
    "\n",
    "# Xuat ket qua\n",
    "print(\"Ho: \" + ho)\n",
    "if ten_dem:\n",
    "    print(\"Ten dem: \" + ten_dem)\n",
    "print(\"Ten: \" + ten)\n"
   ]
  },
  {
   "cell_type": "code",
   "execution_count": null,
   "metadata": {},
   "outputs": [
    {
     "name": "stdout",
     "output_type": "stream",
     "text": [
      "YES\n"
     ]
    }
   ],
   "source": [
    "# Ham kiem tra nam nhuan\n",
    "def is_leap_year(year):\n",
    "    return (year % 400 == 0) or (year % 4 == 0 and year % 100 != 0)\n",
    "\n",
    "# Ham kiem tra tinh hop le cua ngay thang nam\n",
    "def is_valid_date(day, month, year):\n",
    "    if year < 1900:\n",
    "        return False\n",
    "    if month < 1 or month > 12:\n",
    "        return False\n",
    "\n",
    "    # So ngay toi da cho moi thang\n",
    "    days_in_month = [\n",
    "        0,\n",
    "        31, # Thang 1\n",
    "        29 if is_leap_year(year) else 28, # Thang 2\n",
    "        31, # Thang 3\n",
    "        30, # Thang 4\n",
    "        31, # Thang 5\n",
    "        30, # Thang 6\n",
    "        31, # Thang 7\n",
    "        31, # Thang 8\n",
    "        30, # Thang 9\n",
    "        31, # Thang 10\n",
    "        30, # Thang 11\n",
    "        31  # Thang 12\n",
    "    ]\n",
    "\n",
    "    if day < 1 or day > days_in_month[month]:\n",
    "        return False\n",
    "\n",
    "    return True\n",
    "\n",
    "# Nhap vao ngay, thang, nam theo dinh dang dd/mm/yyyy\n",
    "date_input = input()\n",
    "\n",
    "# Tach ngay, thang, nam\n",
    "date = date_input.split('/')\n",
    "day = int(date[0])\n",
    "month = int(date[1])\n",
    "year = int(date[2])\n",
    "\n",
    "# Kiem tra tinh hop le cua ngay thang nam\n",
    "if is_valid_date(day, month, year):\n",
    "    print(\"YES\")\n",
    "else:\n",
    "    print(\"NO\")\n"
   ]
  }
 ],
 "metadata": {
  "kernelspec": {
   "display_name": "Python 3",
   "language": "python",
   "name": "python3"
  },
  "language_info": {
   "codemirror_mode": {
    "name": "ipython",
    "version": 3
   },
   "file_extension": ".py",
   "mimetype": "text/x-python",
   "name": "python",
   "nbconvert_exporter": "python",
   "pygments_lexer": "ipython3",
   "version": "3.12.4"
  }
 },
 "nbformat": 4,
 "nbformat_minor": 2
}
