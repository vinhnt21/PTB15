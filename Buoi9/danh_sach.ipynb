{
 "cells": [
  {
   "cell_type": "code",
   "execution_count": 1,
   "metadata": {},
   "outputs": [],
   "source": [
    "name1 = \"The Duong\"\n",
    "age1 = 11\n",
    "address1 = \"Hoang Cau, Hanoi\"\n",
    "\n",
    "name2 = \"Nam Phong\"\n",
    "age2 = 12\n",
    "address2 = \"BacTL, Hanoi\""
   ]
  },
  {
   "cell_type": "code",
   "execution_count": 21,
   "metadata": {},
   "outputs": [
    {
     "name": "stdout",
     "output_type": "stream",
     "text": [
      "['The Duong', 11, 'Hoang Cau, Hanoi', 'Tóc Xoăn', '2M']\n",
      "----\n",
      "The Duong\n",
      "11\n",
      "Hoang Cau, Hanoi\n",
      "Tóc Xoăn\n",
      "2M\n"
     ]
    }
   ],
   "source": [
    "student1 = [\"The Duong\", 11, \"Hoang Cau, Hanoi\", \"Tóc Xoăn\", \"2M\"]\n",
    "print(student1)\n",
    "print(\"----\")\n",
    "for i in range(len(student1)):\n",
    "    print(student1[i])"
   ]
  },
  {
   "cell_type": "code",
   "execution_count": null,
   "metadata": {},
   "outputs": [],
   "source": [
    "print(student1[0])\n",
    "print(student1[1])"
   ]
  },
  {
   "cell_type": "code",
   "execution_count": 20,
   "metadata": {},
   "outputs": [
    {
     "name": "stdout",
     "output_type": "stream",
     "text": [
      "2M\n",
      "Hoang Cau, Hanoi\n",
      "The Duong\n"
     ]
    }
   ],
   "source": [
    "print(student1[-1])\n",
    "print(student1[-3])\n",
    "print(student1[-5])"
   ]
  },
  {
   "cell_type": "code",
   "execution_count": 13,
   "metadata": {},
   "outputs": [
    {
     "name": "stdout",
     "output_type": "stream",
     "text": [
      "length =  5\n"
     ]
    }
   ],
   "source": [
    "length = len(student1)\n",
    "print(\"length = \", length)"
   ]
  },
  {
   "cell_type": "code",
   "execution_count": 1,
   "metadata": {},
   "outputs": [
    {
     "name": "stdout",
     "output_type": "stream",
     "text": [
      "177\n"
     ]
    }
   ],
   "source": [
    "list_num = [7, 5, 10, 11, 70, 23, 69, 173, 21]\n",
    "result = 0\n",
    "for i in range(len(list_num)):\n",
    "    if i % 2 == 0:\n",
    "        result+=list_num[i]\n",
    "print(result)"
   ]
  },
  {
   "cell_type": "code",
   "execution_count": null,
   "metadata": {},
   "outputs": [],
   "source": []
  },
  {
   "cell_type": "code",
   "execution_count": null,
   "metadata": {},
   "outputs": [
    {
     "name": "stdout",
     "output_type": "stream",
     "text": [
      "[1, 2, 3, 4, 5, 6, 7]\n"
     ]
    }
   ],
   "source": [
    "nums = [0,1,2,3,4,5,6,7,8,9]\n",
    "print(nums[1:-2])"
   ]
  },
  {
   "cell_type": "code",
   "execution_count": 22,
   "metadata": {},
   "outputs": [
    {
     "name": "stdout",
     "output_type": "stream",
     "text": [
      "Trinh Tran Van Phuong Tuan\n"
     ]
    }
   ],
   "source": [
    "names = ['Trinh', 'Tran', 'Van' ,'Phuong', 'Tuan']\n",
    "name = ' '.join(names)\n",
    "print(name)"
   ]
  }
 ],
 "metadata": {
  "kernelspec": {
   "display_name": "Python 3",
   "language": "python",
   "name": "python3"
  },
  "language_info": {
   "codemirror_mode": {
    "name": "ipython",
    "version": 3
   },
   "file_extension": ".py",
   "mimetype": "text/x-python",
   "name": "python",
   "nbconvert_exporter": "python",
   "pygments_lexer": "ipython3",
   "version": "3.12.4"
  }
 },
 "nbformat": 4,
 "nbformat_minor": 2
}
