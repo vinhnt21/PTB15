{
 "cells": [
  {
   "cell_type": "code",
   "execution_count": 4,
   "metadata": {},
   "outputs": [
    {
     "name": "stdout",
     "output_type": "stream",
     "text": [
      "Chuyển đến trang đăng nhập\n"
     ]
    }
   ],
   "source": [
    "logged_in = False\n",
    "\n",
    "if logged_in:\n",
    "    print(\"Chuyển đến trang chính\")\n",
    "else:\n",
    "    print(\"Chuyển đến trang đăng nhập\")"
   ]
  },
  {
   "cell_type": "code",
   "execution_count": 19,
   "metadata": {},
   "outputs": [
    {
     "name": "stdout",
     "output_type": "stream",
     "text": [
      "Học sinh yếu\n",
      "Cần cố gắng hơn nữa\n"
     ]
    }
   ],
   "source": [
    "diem_toan =  float(input(\"Nhập điểm toán: \"))\n",
    "if diem_toan >= 9:\n",
    "    print(\"Học sinh xuất sắc\")\n",
    "elif diem_toan >= 8:\n",
    "    print(\"Học sinh giỏi\")\n",
    "elif diem_toan >= 6.5:\n",
    "    print(\"Học sinh khá\")\n",
    "elif diem_toan >= 5:\n",
    "    print(\"Học sinh trung bình\")\n",
    "else:\n",
    "    print(\"Học sinh yếu\")\n",
    "    print(\"Cần cố gắng hơn nữa\")"
   ]
  },
  {
   "cell_type": "markdown",
   "metadata": {},
   "source": [
    "- Yêu cầu người dùng nhập vào 1 số nguyên dương n\n",
    "    - Nếu mà nhập số âm thì in ra \"Vui lòng nhập số nguyên dương\"\n",
    "    - Nếu nhập vào số dương thì kiểm tra\n",
    "        - Nếu chia hết cho 3 thì in ra \"Đây là số chia hết cho 3\"\n",
    "        - Nếu không chia thì in ra \"Đây không phải là số chia hết cho 3\" "
   ]
  },
  {
   "cell_type": "markdown",
   "metadata": {},
   "source": []
  },
  {
   "cell_type": "code",
   "execution_count": 24,
   "metadata": {},
   "outputs": [
    {
     "name": "stdout",
     "output_type": "stream",
     "text": [
      "Số chia hết cho 3\n"
     ]
    }
   ],
   "source": [
    "n = int(input(\"Nhập số nguyên dương: \"))\n",
    "\n",
    "if n < 0:\n",
    "    print(\"Vui lòng nhập số nguyên dương\")\n",
    "elif n%3 == 0:\n",
    "    print(\"Số chia hết cho 3\")\n",
    "else:\n",
    "    print(\"Số không chia hết cho 3\")\n"
   ]
  },
  {
   "cell_type": "code",
   "execution_count": 2,
   "metadata": {},
   "outputs": [
    {
     "name": "stdout",
     "output_type": "stream",
     "text": [
      "8\n"
     ]
    }
   ],
   "source": [
    "n = 5\n",
    "\n",
    "n += 3\n",
    "\n",
    "print(n)"
   ]
  }
 ],
 "metadata": {
  "kernelspec": {
   "display_name": "Python 3",
   "language": "python",
   "name": "python3"
  },
  "language_info": {
   "codemirror_mode": {
    "name": "ipython",
    "version": 3
   },
   "file_extension": ".py",
   "mimetype": "text/x-python",
   "name": "python",
   "nbconvert_exporter": "python",
   "pygments_lexer": "ipython3",
   "version": "3.12.4"
  }
 },
 "nbformat": 4,
 "nbformat_minor": 2
}
